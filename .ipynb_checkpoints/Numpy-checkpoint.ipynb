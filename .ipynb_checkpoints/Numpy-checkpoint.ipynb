{
 "cells": [
  {
   "cell_type": "code",
   "execution_count": 2,
   "metadata": {},
   "outputs": [],
   "source": [
    "#Numpy stands for Numerical Python\n",
    "#It is an open source module of Python which provides fast mathematical computation on arrays and matrices. \n",
    "import numpy as np\n",
    "#np is now the imported numpy package"
   ]
  },
  {
   "cell_type": "code",
   "execution_count": 3,
   "metadata": {},
   "outputs": [
    {
     "name": "stdout",
     "output_type": "stream",
     "text": [
      "add(x1, x2, /, out=None, *, where=True, casting='same_kind', order='K', dtype=None, subok=True[, signature, extobj])\n",
      "\n",
      "Add arguments element-wise.\n",
      "\n",
      "Parameters\n",
      "----------\n",
      "x1, x2 : array_like\n",
      "    The arrays to be added.  If ``x1.shape != x2.shape``, they must be\n",
      "    broadcastable to a common shape (which may be the shape of one or\n",
      "    the other).\n",
      "out : ndarray, None, or tuple of ndarray and None, optional\n",
      "    A location into which the result is stored. If provided, it must have\n",
      "    a shape that the inputs broadcast to. If not provided or `None`,\n",
      "    a freshly-allocated array is returned. A tuple (possible only as a\n",
      "    keyword argument) must have length equal to the number of outputs.\n",
      "where : array_like, optional\n",
      "    Values of True indicate to calculate the ufunc at that position, values\n",
      "    of False indicate to leave the value in the output alone.\n",
      "**kwargs\n",
      "    For other keyword-only arguments, see the\n",
      "    :ref:`ufunc docs <ufuncs.kwargs>`.\n",
      "\n",
      "Returns\n",
      "-------\n",
      "add : ndarray or scalar\n",
      "    The sum of `x1` and `x2`, element-wise.  Returns a scalar if\n",
      "    both  `x1` and `x2` are scalars.\n",
      "\n",
      "Notes\n",
      "-----\n",
      "Equivalent to `x1` + `x2` in terms of array broadcasting.\n",
      "\n",
      "Examples\n",
      "--------\n",
      ">>> np.add(1.0, 4.0)\n",
      "5.0\n",
      ">>> x1 = np.arange(9.0).reshape((3, 3))\n",
      ">>> x2 = np.arange(3.0)\n",
      ">>> np.add(x1, x2)\n",
      "array([[  0.,   2.,   4.],\n",
      "       [  3.,   5.,   7.],\n",
      "       [  6.,   8.,  10.]])\n"
     ]
    }
   ],
   "source": [
    "#differences between NumPy arrays and the standard Python sequences:\n",
    "# NumPy arrays have a fixed size at creation, unlike Python lists (which can grow dynamically).\n",
    "# Changing the size of an ndarray will create a new array and delete the original.\n",
    "#The elements in a NumPy array are all required to be of the same data type, and thus will be the same size in memory.\n",
    "\n",
    "# NumPy’s main object is the homogeneous multidimensional array. It is a table with same type elements, i.e, integers or string or characters (homogeneous), usually integers. \n",
    "# In a NumPy array, the number of dimensions is called the rank, and each dimension is called an axis. \n",
    "# So the rows are the first axis, and the columns are the second axis with a rank 2\n",
    "# For example, the coordinates of a point in 3D space [1, 2, 1] has one axis. \n",
    "# That axis has 3 elements in it, so we say it has a length of 3\n",
    "#getting documentation of any numy function\n",
    "np.info(np.add)"
   ]
  },
  {
   "cell_type": "code",
   "execution_count": 36,
   "metadata": {},
   "outputs": [
    {
     "name": "stdout",
     "output_type": "stream",
     "text": [
      "[[ 0  1  2  3  4]\n",
      " [ 5  6  7  8  9]\n",
      " [10 11 12 13 14]]\n",
      "<class 'numpy.ndarray'>\n",
      "(3, 5)\n",
      "2\n",
      "15\n",
      "int64\n",
      "8\n",
      "<memory at 0x7f1929a55dc8>\n"
     ]
    }
   ],
   "source": [
    "# NumPy’s array class is called ndarray.\n",
    "# Attributes of ndarray\n",
    "import numpy as np\n",
    "# To create sequences of numbers arrange(start,stop,step) is used\n",
    "a=np.arange(15).reshape(3,5)\n",
    "print(a)\n",
    "print(type(a))\n",
    "#the dimensions of the array. This is a tuple of integers indicating the size of the array in each dimension. For a matrix with n rows and m columns, shape will be (n,m)\n",
    "print(a.shape)\n",
    "#the number of axes (dimensions) of the array.\n",
    "print(a.ndim)\n",
    "#the total number of elements of the array. This is equal to the product of the elements of shape\n",
    "print(a.size)\n",
    "#an object describing the type of the elements in the array. \n",
    "print(a.dtype)\n",
    "#the size in bytes of each element of the array. \n",
    "print(a.itemsize)\n",
    "#the buffer containing the actual elements of the array. \n",
    "print(a.data)"
   ]
  },
  {
   "cell_type": "code",
   "execution_count": 18,
   "metadata": {},
   "outputs": [
    {
     "name": "stdout",
     "output_type": "stream",
     "text": [
      "[2 3 4]\n",
      "[[1 2 3]\n",
      " [4 5 6]]\n",
      "[[1.+0.j 2.+0.j]\n",
      " [3.+0.j 4.+0.j]]\n"
     ]
    }
   ],
   "source": [
    "#Array Creation\n",
    "import numpy as np\n",
    "#creating a vector\n",
    "a=np.array([2,3,4])\n",
    "print(a)\n",
    "\n",
    "#creating a matrix 2*3\n",
    "b=np.array([(1,2,3),(4,5,6)])\n",
    "b=np.array([[1,2,3],[4,5,6]])\n",
    "print(b)\n",
    "\n",
    "# The type of the array can also be explicitly specified at creation time:\n",
    "c = np.array( [ [1,2], [3,4] ], dtype=complex )\n",
    "print(c)"
   ]
  },
  {
   "cell_type": "code",
   "execution_count": 39,
   "metadata": {},
   "outputs": [
    {
     "name": "stdout",
     "output_type": "stream",
     "text": [
      "[[0. 0. 0. 0.]\n",
      " [0. 0. 0. 0.]\n",
      " [0. 0. 0. 0.]]\n",
      "[[1 1 1]\n",
      " [1 1 1]\n",
      " [1 1 1]\n",
      " [1 1 1]]\n",
      "[[0.00708532 0.0348209  0.01863363]\n",
      " [0.69143149 0.46422209 0.67082615]]\n",
      "[[11 11 11 11]\n",
      " [11 11 11 11]\n",
      " [11 11 11 11]]\n",
      "[[1. 0. 0.]\n",
      " [0. 1. 0.]\n",
      " [0. 0. 1.]]\n",
      "[[1 0 0]\n",
      " [0 2 0]\n",
      " [0 0 3]]\n"
     ]
    }
   ],
   "source": [
    "# functions to create arrays with initial placeholder content.\n",
    "#filled with inital zeroes\n",
    "a=np.zeros((3,4))\n",
    "print(a)\n",
    "#filled with inital ones\n",
    "b=np.ones((4,3),dtype=np.int16)\n",
    "print(b)\n",
    "#filles with uninitailized random values\n",
    "c=np.empty((2,3))\n",
    "print(c)\n",
    "#filles with initailized specified value\n",
    "d=np.full((3,4),11)\n",
    "print(d)\n",
    "#identity matrix creation\n",
    "e=np.eye(3)\n",
    "print(e)\n",
    "#diagonal matrix\n",
    "f=np.diag(np.array([1,2,3]))\n",
    "print(f)"
   ]
  },
  {
   "cell_type": "code",
   "execution_count": 30,
   "metadata": {},
   "outputs": [
    {
     "name": "stdout",
     "output_type": "stream",
     "text": [
      "[0.         0.6981317  1.3962634  2.0943951  2.7925268  3.4906585\n",
      " 4.1887902  4.88692191 5.58505361 6.28318531]\n"
     ]
    }
   ],
   "source": [
    "#When arange is used with floating point arguments, it is generally not possible to predict the number of elements obtained, \n",
    "# due to the finite floating point precision. For this reason, it is usually better to use the function linspace \n",
    "# that receives as an argument the number of elements that we want, instead of the step:\n",
    "# np.linspace(0,2,9) (start,end,no of points)\n",
    "from numpy import pi\n",
    "x=np.linspace(0,2*pi,10)\n",
    "print(x)"
   ]
  },
  {
   "cell_type": "code",
   "execution_count": 35,
   "metadata": {},
   "outputs": [
    {
     "data": {
      "text/plain": [
       "array([[0.08342544, 0.16351368, 1.78585464, 3.20856352],\n",
       "       [3.17965976, 0.53570411, 3.03638892, 4.26555626]])"
      ]
     },
     "execution_count": 35,
     "metadata": {},
     "output_type": "execute_result"
    }
   ],
   "source": [
    "#generating random values\n",
    "#Create an array of the given shape and populate it with random samples from a uniform distribution over [0, 1).\n",
    "np.random.rand(3,2)\n",
    "#Return a sample (or samples) from the “standard normal” distribution.\n",
    "#For random samples from N(\\mu, \\sigma^2), use:\n",
    "# sigma * np.random.randn(...) + mu\n",
    "np.random.randn()\n",
    "#Two-by-four array of samples from N(3, 6.25):\n",
    "2.5 * np.random.randn(2, 4) + 3"
   ]
  },
  {
   "cell_type": "code",
   "execution_count": 41,
   "metadata": {},
   "outputs": [
    {
     "name": "stdout",
     "output_type": "stream",
     "text": [
      "[1 3 5 7 9]\n",
      "[9 7 5 3 1]\n"
     ]
    }
   ],
   "source": [
    "#for reversing a sequence: \n",
    "a=np.arange(1,10,2)\n",
    "print(a)\n",
    "print(a[::-1])\n",
    "#A slicing operation creates a view on the original array, which is just a way of accessing array data. Thus the originalarrayisnotcopiedinmemory. \n",
    "#You can usenp.may_share_memory()to check if two arrays share the same memory block"
   ]
  },
  {
   "cell_type": "code",
   "execution_count": 46,
   "metadata": {},
   "outputs": [
    {
     "name": "stdout",
     "output_type": "stream",
     "text": [
      "Enter start number:0\n",
      "Enter end number:10\n",
      "[ True  True  True  True False  True False  True False False]\n"
     ]
    }
   ],
   "source": [
    "#computing prime numbers in a give range\n",
    "start=int(input(\"Enter start number:\"))\n",
    "end=int(input(\"Enter end number:\"))\n",
    "length=end-start\n",
    "is_prime=np.ones((length,),dtype=bool)\n",
    "N_max=int(np.sqrt(len(is_prime)-1))\n",
    "for j in range(2,N_max+1):\n",
    "    is_prime[2*j::j]=False\n",
    "print(is_prime)"
   ]
  },
  {
   "cell_type": "code",
   "execution_count": 63,
   "metadata": {},
   "outputs": [
    {
     "name": "stdout",
     "output_type": "stream",
     "text": [
      "[2 3 4 5]\n",
      "[ 2  4  8 16]\n",
      "[1 2 3 4]\n",
      "30\n",
      "[2 4 6 8]\n"
     ]
    }
   ],
   "source": [
    "#Operations in Numpy\n",
    "#Elementwise Operations\n",
    "#with scalars\n",
    "a=np.array([1,2,3,4])\n",
    "print(a+1)\n",
    "print(2**a)\n",
    "#numerical Operations\n",
    "b = np.arange( 4 )+1\n",
    "print(b)\n",
    "a-b\n",
    "a*b#not matrix multiplication\n",
    "a-b\n",
    "#for matrix multiplication\n",
    "c=a.dot(b) #or np.dot(a,b)\n",
    "print(c)\n",
    "a<3\n",
    "#Some operations, such as += and *=, act in place to modify an existing array rather than create a new one.\n",
    "b += a\n",
    "print(b)"
   ]
  },
  {
   "cell_type": "code",
   "execution_count": 70,
   "metadata": {},
   "outputs": [
    {
     "data": {
      "text/plain": [
       "array([ 2.71828183,  7.3890561 , 20.08553692, 54.59815003])"
      ]
     },
     "execution_count": 70,
     "metadata": {},
     "output_type": "execute_result"
    }
   ],
   "source": [
    "#comparisions OPerations\n",
    "a==b\n",
    "a>b\n",
    "np.array_equal(a,b)\n",
    "#logical Operations\n",
    "np.logical_or(a,b)\n",
    "np.logical_and(a,b)\n",
    "#otheroperations\n",
    "np.log(15)\n",
    "np.exp(a)"
   ]
  },
  {
   "cell_type": "code",
   "execution_count": 84,
   "metadata": {},
   "outputs": [
    {
     "name": "stdout",
     "output_type": "stream",
     "text": [
      "1\n",
      "34\n",
      "0\n",
      "2\n",
      "9.6\n",
      "5.0\n",
      "12.338557452149743\n"
     ]
    }
   ],
   "source": [
    "#BAsic Reductions\n",
    "x=np.array([[1,1],[2,2]])\n",
    "np.sum(x)\n",
    "x.sum(axis=0)#columns\n",
    "x.sum(axis=1)#rows\n",
    "z=np.array([1,2,34,5,6])\n",
    "print(z.min())\n",
    "print(z.max())\n",
    "print(z.argmin())#index of the min element\n",
    "print(z.argmax())\n",
    "print(z.mean())\n",
    "print(np.median(z))\n",
    "print(z.std())"
   ]
  },
  {
   "cell_type": "code",
   "execution_count": 91,
   "metadata": {},
   "outputs": [
    {
     "name": "stdout",
     "output_type": "stream",
     "text": [
      "[1. 5. 2. 7. 7. 3. 6. 9. 1. 9. 5. 1.]\n",
      "[[1. 5.]\n",
      " [2. 7.]\n",
      " [7. 3.]\n",
      " [6. 9.]\n",
      " [1. 9.]\n",
      " [5. 1.]]\n",
      "[[1. 5. 2. 7.]\n",
      " [7. 3. 6. 9.]\n",
      " [1. 9. 5. 1.]]\n",
      "[[1. 5. 2. 7. 7. 3.]\n",
      " [6. 9. 1. 9. 5. 1.]]\n"
     ]
    }
   ],
   "source": [
    "#shape manipulation\n",
    "#the following three commands all return a modified array, but do not change the original array:\n",
    "a = np.floor(10*np.random.random((3,4)))\n",
    "print(a.ravel())#returns a vector\n",
    "print(a.reshape(6,2)) # returns the array with a modified shape\n",
    "a.T# returns the array, transposed\n",
    "print(a)\n",
    "#The reshape function returns its argument with a modified shape, whereas the ndarray.resize method modifies the array itself:\n",
    "a.resize((2,6))\n",
    "print(a)"
   ]
  },
  {
   "cell_type": "code",
   "execution_count": 94,
   "metadata": {},
   "outputs": [
    {
     "name": "stdout",
     "output_type": "stream",
     "text": [
      "[1 2 3 4 5]\n",
      "[1 2 3 4 5]\n",
      "[1 2 3 4 5]\n"
     ]
    }
   ],
   "source": [
    "# Basic operations on numpy arrays(addition,etc.) are elementwise \n",
    "# Nevertheless,It’s also possible to do operations on arrays of different sizes if NumPy can transform these arrays so that they all have the samesize: this conversion is called broadcasting.\n",
    "#adding a dimension\n",
    "z=np.array([1,2,3,4,5])\n",
    "print(z)\n",
    "z[:, np.newaxis]\n",
    "print(z)\n",
    "z[np.newaxis,:]\n",
    "print(z)"
   ]
  },
  {
   "cell_type": "code",
   "execution_count": 96,
   "metadata": {},
   "outputs": [
    {
     "name": "stdout",
     "output_type": "stream",
     "text": [
      "[[3 4 5]\n",
      " [1 1 2]]\n",
      "[[3 4 5]\n",
      " [1 1 2]]\n"
     ]
    }
   ],
   "source": [
    "a = np.array([[4, 3, 5], [1, 2, 1]]) \n",
    "b = np.sort(a, axis=1) #sorting each row separtely\n",
    "print(b)\n",
    "a.sort(axis=1)#in-place sorting\n",
    "print(a)"
   ]
  },
  {
   "cell_type": "code",
   "execution_count": 100,
   "metadata": {},
   "outputs": [
    {
     "name": "stdout",
     "output_type": "stream",
     "text": [
      "[(b'', 0., 0.) (b'', 0., 0.) (b'', 0., 0.) (b'', 0., 0.) (b'', 0., 0.)\n",
      " (b'', 0., 0.)]\n",
      "[(b'ALFA', 1. , 0.37) (b'BETA', 1. , 0.11) (b'TAU', 1. , 0.13)\n",
      " (b'ALFA', 1.5, 0.37) (b'ALFA', 3. , 0.11) (b'TAU', 1.2, 0.13)]\n",
      "[b'ALFA' b'BETA' b'TAU' b'ALFA' b'ALFA' b'TAU']\n"
     ]
    },
    {
     "data": {
      "text/plain": [
       "(b'ALFA', 1., 0.37)"
      ]
     },
     "execution_count": 100,
     "metadata": {},
     "output_type": "execute_result"
    }
   ],
   "source": [
    "#structured data type\n",
    "samples = np.zeros((6,), dtype=[('sensor_code', 'S4'),('position', float), ('value', float)])\n",
    "print(samples)\n",
    "samples[:] = [('ALFA', 1, 0.37), ('BETA', 1, 0.11), ('TAU', 1, 0.13),('ALFA', 1.5, 0.37), ('ALFA', 3, 0.11), ('TAU', 1.2, 0.13)]\n",
    "print(samples)\n",
    "print(samples['sensor_code'])\n",
    "samples[0]"
   ]
  },
  {
   "cell_type": "code",
   "execution_count": 107,
   "metadata": {},
   "outputs": [
    {
     "name": "stdout",
     "output_type": "stream",
     "text": [
      "   2\n",
      "3 x + 2 x - 1\n",
      "-1\n",
      "[-1.          0.33333333]\n",
      "2\n",
      "[-1.          0.33333333]\n",
      "2\n"
     ]
    }
   ],
   "source": [
    "#polynomials\n",
    "#3x**2+2*x-1\n",
    "p=np.poly1d([3,2,-1])\n",
    "print(p)\n",
    "print(p(0))\n",
    "print(p.roots)\n",
    "print(p.order)\n",
    "p = np.polynomial.Polynomial([-1, 2, 3]) # coefs in different order! \n",
    "print(p.roots())\n",
    "print(p.degree())"
   ]
  },
  {
   "cell_type": "code",
   "execution_count": null,
   "metadata": {},
   "outputs": [],
   "source": [
    "#loading datafiles\n",
    "data = np.loadtxt('data/populations.txt') \n",
    "print(data)"
   ]
  },
  {
   "cell_type": "code",
   "execution_count": 111,
   "metadata": {},
   "outputs": [
    {
     "name": "stdout",
     "output_type": "stream",
     "text": [
      "[[1. 2.]\n",
      " [3. 4.]]\n",
      "[[1. 3.]\n",
      " [2. 4.]]\n",
      "[[-2.   1. ]\n",
      " [ 1.5 -0.5]]\n",
      "2.0\n",
      "[[-3.]\n",
      " [ 4.]]\n"
     ]
    }
   ],
   "source": [
    "a = np.array([[1.0, 2.0], [3.0, 4.0]])\n",
    "print(a)\n",
    "print(a.transpose())\n",
    "print(np.linalg.inv(a))\n",
    "u = np.eye(2)\n",
    "print(np.trace(u) ) # trace\n",
    "y = np.array([[5.], [7.]])\n",
    "print(np.linalg.solve(a, y))\n"
   ]
  },
  {
   "cell_type": "code",
   "execution_count": 112,
   "metadata": {},
   "outputs": [
    {
     "data": {
      "text/plain": [
       "array([[[0, 0, 0],\n",
       "        [1, 1, 1],\n",
       "        [2, 2, 2]],\n",
       "\n",
       "       [[0, 1, 2],\n",
       "        [0, 1, 2],\n",
       "        [0, 1, 2]]])"
      ]
     },
     "execution_count": 112,
     "metadata": {},
     "output_type": "execute_result"
    }
   ],
   "source": [
    "#indices() will create a set of arrays (stacked as a one-higher dimensioned array), one per dimension with each representing variation in that dimension\n",
    "np.indices((3,3))\n",
    "#common valus in x and y\n",
    "print(np.intersect1d(x,y))"
   ]
  }
 ],
 "metadata": {
  "kernelspec": {
   "display_name": "Python 3.6",
   "language": "python",
   "name": "python36"
  },
  "language_info": {
   "codemirror_mode": {
    "name": "ipython",
    "version": 3
   },
   "file_extension": ".py",
   "mimetype": "text/x-python",
   "name": "python",
   "nbconvert_exporter": "python",
   "pygments_lexer": "ipython3",
   "version": "3.6.3"
  }
 },
 "nbformat": 4,
 "nbformat_minor": 2
}
