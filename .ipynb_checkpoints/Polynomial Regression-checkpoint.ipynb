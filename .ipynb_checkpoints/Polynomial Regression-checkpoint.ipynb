{
 "cells": [
  {
   "cell_type": "code",
   "execution_count": 1,
   "metadata": {},
   "outputs": [
    {
     "name": "stderr",
     "output_type": "stream",
     "text": [
      "/home/nbuser/anaconda3_501/lib/python3.6/site-packages/matplotlib/font_manager.py:281: UserWarning: Matplotlib is building the font cache using fc-list. This may take a moment.\n",
      "  'Matplotlib is building the font cache using fc-list. '\n"
     ]
    }
   ],
   "source": [
    "#Polynomial Regression without scikit-learn\n",
    "import pandas as pd\n",
    "import numpy as np\n",
    "import matplotlib.pyplot as plt\n",
    "%matplotlib inline\n",
    "from scipy.io import loadmat\n",
    "from scipy.optimize import minimize"
   ]
  },
  {
   "cell_type": "code",
   "execution_count": 2,
   "metadata": {},
   "outputs": [
    {
     "data": {
      "text/plain": [
       "dict_keys(['__header__', '__version__', '__globals__', 'X', 'y', 'Xtest', 'ytest', 'Xval', 'yval'])"
      ]
     },
     "execution_count": 2,
     "metadata": {},
     "output_type": "execute_result"
    }
   ],
   "source": [
    "#getting the data\n",
    "data=loadmat('Data/LinearReg2.mat')\n",
    "#gets loaded in form of a dictionary\n",
    "data.keys()"
   ]
  },
  {
   "cell_type": "code",
   "execution_count": 3,
   "metadata": {
    "scrolled": true
   },
   "outputs": [
    {
     "name": "stdout",
     "output_type": "stream",
     "text": [
      "(12, 2)\n",
      "(12, 1)\n",
      "(21, 2)\n",
      "(21, 1)\n",
      "(21, 2)\n",
      "(21, 1)\n"
     ]
    }
   ],
   "source": [
    "#getting the training set\n",
    "X_train=np.array(data['X'])\n",
    "y_train=np.array(data['y'])\n",
    "#adding the bias term in the front\n",
    "X_train  = np.hstack((np.ones_like(y_train), X_train))\n",
    "#getting the test set\n",
    "y_test = data['ytest']\n",
    "#adding the bias term in the front\n",
    "X_test = np.c_[np.ones_like(data['Xtest']), data['Xtest']]\n",
    "#getting the cross validation set\n",
    "y_val = data['yval']\n",
    "#adding the bias term in the front\n",
    "X_val = np.c_[np.ones_like(data['Xval']), data['Xval']]\n",
    "#the dimensions of the sets\n",
    "print(X_train.shape)\n",
    "print(y_train.shape)\n",
    "print(X_val.shape)\n",
    "print(y_val.shape)\n",
    "print(X_test.shape)\n",
    "print(y_test.shape)"
   ]
  },
  {
   "cell_type": "code",
   "execution_count": 4,
   "metadata": {},
   "outputs": [
    {
     "data": {
      "text/plain": [
       "Text(0,0.5,'water flowing out of the dam')"
      ]
     },
     "execution_count": 4,
     "metadata": {},
     "output_type": "execute_result"
    },
    {
     "data": {
      "image/png": "[encoded data removed]",
      "text/plain": [
       "<matplotlib.figure.Figure at 0x7fe6e64ca0b8>"
      ]
     },
     "metadata": {},
     "output_type": "display_data"
    }
   ],
   "source": [
    "#lets plot our data\n",
    "plt.scatter(X_train[:,1],y_train,marker='x')\n",
    "plt.xlabel('Change in water level')\n",
    "plt.ylabel('water flowing out of the dam')"
   ]
  },
  {
   "cell_type": "markdown",
   "metadata": {},
   "source": [
    "As we can see a simple linear fit on the data wouldnt be quite generalized solution for a linear regression model and thus we need polynomial regression to handle such curvilinear datasets"
   ]
  },
  {
   "cell_type": "code",
   "execution_count": 5,
   "metadata": {},
   "outputs": [],
   "source": [
    "#regularized cost function\n",
    "def cost(theta,X,y,reg):\n",
    "    m=len(y)\n",
    "    theta = theta[:,None]\n",
    "    #calculating cost\n",
    "    J=((np.sum((np.dot(X,theta) - y)**2))/(2*m) + (reg/(2*m))*np.sum(theta**2))\n",
    "    #calculating gradient\n",
    "    gradients = ((np.sum((np.dot(X,theta)-y)*X,axis=0)/m)+(reg/m)*theta.T)\n",
    "    # Replace gradient for theta_0 with non-regularized\n",
    "    gradients[0] = gradients[0] - (reg/m)*theta.T\n",
    "    gradients = gradients.flatten()\n",
    "    return (J,gradients)"
   ]
  },
  {
   "cell_type": "code",
   "execution_count": 6,
   "metadata": {},
   "outputs": [],
   "source": [
    "def trainLinearReg(X, y,reg):\n",
    "    initial_theta = np.zeros(np.size(X,1))      \n",
    "    res = minimize(cost,initial_theta,args=(X,y,reg),jac=True,options={'maxiter':1000,'disp':True})\n",
    "    return(res)"
   ]
  },
  {
   "cell_type": "code",
   "execution_count": 17,
   "metadata": {},
   "outputs": [],
   "source": [
    "def polyFeatures(X,p):\n",
    "    X_poly = np.zeros((len(X),p))\n",
    "    X = X.flatten()\n",
    "    for i in range(1,p+1):\n",
    "        X_poly[:,i-1] = X**i\n",
    "    return X_poly"
   ]
  },
  {
   "cell_type": "code",
   "execution_count": 18,
   "metadata": {},
   "outputs": [],
   "source": [
    "def featureNormalize(X):\n",
    "    mu = np.mean(X,axis=0)\n",
    "    sigma = np.std(X,axis=0)\n",
    "    normalized_X = np.divide(X - mu,sigma)\n",
    "    return (normalized_X, mu, sigma)"
   ]
  },
  {
   "cell_type": "code",
   "execution_count": 19,
   "metadata": {
    "scrolled": false
   },
   "outputs": [],
   "source": [
    "# Feature Mapping for Polynomial Regression\n",
    "p = 8\n",
    "X_poly = polyFeatures(X_train[:,1],p)\n",
    "X_poly, mu, sigma = featureNormalize(X_poly)\n",
    "X_poly = np.hstack((np.ones_like(y_train),X_poly))"
   ]
  },
  {
   "cell_type": "code",
   "execution_count": 21,
   "metadata": {},
   "outputs": [],
   "source": [
    "X_poly_test = polyFeatures(X_test[:,1],p)\n",
    "X_poly_test = np.divide(X_poly_test - mu, sigma)\n",
    "X_poly_test = np.hstack((np.ones_like(y_test),X_poly_test))"
   ]
  },
  {
   "cell_type": "code",
   "execution_count": 23,
   "metadata": {},
   "outputs": [],
   "source": [
    "X_poly_val = polyFeatures(X_val[:,1],p)\n",
    "X_poly_val = np.divide(X_poly_val - mu, sigma)\n",
    "X_poly_val = np.hstack((np.ones_like(y_val),X_poly_val))"
   ]
  },
  {
   "cell_type": "code",
   "execution_count": 28,
   "metadata": {},
   "outputs": [],
   "source": [
    "def plotFit(min_x, max_x, mu, sigma, theta, p):\n",
    "    x = np.arange(min_x - 15, max_x + 25, 0.05).reshape((-1,1))\n",
    "    X_poly = polyFeatures(x,p)\n",
    "    X_poly = np.divide(X_poly - mu, sigma)\n",
    "    X_poly = np.hstack((np.ones(len(X_poly)).reshape((-1,1)),X_poly))\n",
    "    plt.plot(x,np.dot(X_poly,theta),'b--',linewidth=2)\n",
    "    return"
   ]
  },
  {
   "cell_type": "code",
   "execution_count": 34,
   "metadata": {},
   "outputs": [
    {
     "name": "stdout",
     "output_type": "stream",
     "text": [
      "Warning: Desired error not necessarily achieved due to precision loss.\n",
      "         Current function value: 12.629773\n",
      "         Iterations: 6\n",
      "         Function evaluations: 106\n",
      "         Gradient evaluations: 94\n"
     ]
    },
    {
     "data": {
      "image/png": "[encoded data removed]",
      "text/plain": [
       "<matplotlib.figure.Figure at 0x7fe6e61006a0>"
      ]
     },
     "metadata": {},
     "output_type": "display_data"
    }
   ],
   "source": [
    "#Learning for Polynomial Regression\n",
    "reg_param = 1.0\n",
    "est_theta = trainLinearReg(X_poly,y_train,reg_param)\n",
    "plt.plot(X_train[:,1], y_train, 'rx', markersize=10, linewidth=1.5)\n",
    "plotFit(np.min(X_train), np.max(X_train), mu, sigma, est_theta.x, p)\n",
    "plt.xlabel('Change in water level (x)')\n",
    "plt.ylabel('Water flowing out of the dam (y)')\n",
    "plt.show()"
   ]
  },
  {
   "cell_type": "code",
   "execution_count": 40,
   "metadata": {},
   "outputs": [],
   "source": [
    "#learning Curve\n",
    "def learningCurve(X, y, Xval, yval, reg):\n",
    "    m_train = len(X)\n",
    "    m_val = len(X)\n",
    "    error_train = np.zeros(m_train)\n",
    "    error_val = np.zeros(m_val)\n",
    "    for i in range(1,m_train+1):\n",
    "        res =trainLinearReg(X[:i],y[:i], reg)\n",
    "        error_train[i-1] = (np.sum((np.dot(X[:i],res.x)-y[:i])**2))/(2.0*i)\n",
    "        error_val[i-1] =(np.sum((np.dot(Xval,res.x)-yval)**2))/(2.0*m_val)\n",
    "        #print(i,\"\\t\",error_train[i-1],\"\\t\",error_val[i-1])\n",
    "    \n",
    "    return(error_train, error_val)"
   ]
  },
  {
   "cell_type": "code",
   "execution_count": 41,
   "metadata": {},
   "outputs": [
    {
     "name": "stdout",
     "output_type": "stream",
     "text": [
      "Optimization terminated successfully.\n",
      "         Current function value: 0.000000\n",
      "         Iterations: 2\n",
      "         Function evaluations: 3\n",
      "         Gradient evaluations: 3\n",
      "Optimization terminated successfully.\n",
      "         Current function value: 0.000000\n",
      "         Iterations: 7\n",
      "         Function evaluations: 8\n",
      "         Gradient evaluations: 8\n",
      "Optimization terminated successfully.\n",
      "         Current function value: 0.000000\n",
      "         Iterations: 6\n",
      "         Function evaluations: 8\n",
      "         Gradient evaluations: 8\n",
      "Optimization terminated successfully.\n",
      "         Current function value: 0.000000\n",
      "         Iterations: 13\n",
      "         Function evaluations: 17\n",
      "         Gradient evaluations: 17\n",
      "Optimization terminated successfully.\n",
      "         Current function value: 0.000000\n",
      "         Iterations: 23\n",
      "         Function evaluations: 24\n",
      "         Gradient evaluations: 24\n",
      "Optimization terminated successfully.\n",
      "         Current function value: 0.000000\n",
      "         Iterations: 36\n",
      "         Function evaluations: 37\n",
      "         Gradient evaluations: 37\n",
      "Optimization terminated successfully.\n",
      "         Current function value: 0.000000\n",
      "         Iterations: 46\n",
      "         Function evaluations: 47\n",
      "         Gradient evaluations: 47\n",
      "Optimization terminated successfully.\n",
      "         Current function value: 0.000000\n",
      "         Iterations: 63\n",
      "         Function evaluations: 64\n",
      "         Gradient evaluations: 64\n",
      "Optimization terminated successfully.\n",
      "         Current function value: 0.000000\n",
      "         Iterations: 86\n",
      "         Function evaluations: 87\n",
      "         Gradient evaluations: 87\n",
      "Optimization terminated successfully.\n",
      "         Current function value: 0.010820\n",
      "         Iterations: 78\n",
      "         Function evaluations: 80\n",
      "         Gradient evaluations: 80\n",
      "Optimization terminated successfully.\n",
      "         Current function value: 0.031219\n",
      "         Iterations: 80\n",
      "         Function evaluations: 81\n",
      "         Gradient evaluations: 81\n",
      "Optimization terminated successfully.\n",
      "         Current function value: 0.028891\n",
      "         Iterations: 77\n",
      "         Function evaluations: 78\n",
      "         Gradient evaluations: 78\n"
     ]
    }
   ],
   "source": [
    "error_train, error_val=  learningCurve(X_poly, y_train, X_poly_val, y_val, 0.0)\n"
   ]
  },
  {
   "cell_type": "code",
   "execution_count": 44,
   "metadata": {},
   "outputs": [
    {
     "data": {
      "image/png": "[encoded data removed]",
      "text/plain": [
       "<matplotlib.figure.Figure at 0x7fe6ea68b438>"
      ]
     },
     "metadata": {},
     "output_type": "display_data"
    }
   ],
   "source": [
    "plt.plot(range(len(X_train)),error_train, label='Training error')\n",
    "plt.plot(range(len(X_train)), error_val, label='Validation error')\n",
    "plt.title('Learning curve for linear regression')\n",
    "plt.xlabel('Number of training examples')\n",
    "plt.ylabel('Error')\n",
    "plt.legend();"
   ]
  },
  {
   "cell_type": "code",
   "execution_count": 45,
   "metadata": {},
   "outputs": [],
   "source": [
    "#validation curve\n",
    "def validationCurve(X, y, Xval, yval):\n",
    "    lambda_vec = np.array([0, 0.001, 0.003, 0.01, 0.03, 0.1, 0.3, 1, 3, 10]).reshape((-1,1))\n",
    "    error_train = np.zeros(len(lambda_vec))\n",
    "    error_val = np.zeros(len(lambda_vec))\n",
    "\n",
    "    for i in range(len(lambda_vec)):\n",
    "        m_train = len(X)\n",
    "        m_val = len(Xval)\n",
    "        reg_param = lambda_vec[i]\n",
    "        est_theta = trainLinearReg(X,y,reg_param)\n",
    "        error_train[i] = (np.sum((np.dot(X,est_theta.x)-y)**2))/(2.0*m_train)\n",
    "        error_val[i] = (np.sum((np.dot(Xval,est_theta.x)-yval)**2))/(2.0*m_val)\n",
    "\n",
    "    return (lambda_vec, error_train, error_val)"
   ]
  },
  {
   "cell_type": "code",
   "execution_count": 39,
   "metadata": {},
   "outputs": [
    {
     "name": "stdout",
     "output_type": "stream",
     "text": [
      "Optimization terminated successfully.\n",
      "         Current function value: 22.373906\n",
      "         Iterations: 3\n",
      "         Function evaluations: 5\n",
      "         Gradient evaluations: 5\n",
      "Optimization terminated successfully.\n",
      "         Current function value: 22.381049\n",
      "         Iterations: 3\n",
      "         Function evaluations: 5\n",
      "         Gradient evaluations: 5\n",
      "Optimization terminated successfully.\n",
      "         Current function value: 22.395335\n",
      "         Iterations: 3\n",
      "         Function evaluations: 5\n",
      "         Gradient evaluations: 5\n",
      "Optimization terminated successfully.\n",
      "         Current function value: 22.445335\n",
      "         Iterations: 3\n",
      "         Function evaluations: 5\n",
      "         Gradient evaluations: 5\n",
      "Optimization terminated successfully.\n",
      "         Current function value: 22.588192\n",
      "         Iterations: 3\n",
      "         Function evaluations: 5\n",
      "         Gradient evaluations: 5\n",
      "Optimization terminated successfully.\n",
      "         Current function value: 23.088192\n",
      "         Iterations: 3\n",
      "         Function evaluations: 5\n",
      "         Gradient evaluations: 5\n",
      "Optimization terminated successfully.\n",
      "         Current function value: 24.516762\n",
      "         Iterations: 3\n",
      "         Function evaluations: 5\n",
      "         Gradient evaluations: 5\n",
      "Optimization terminated successfully.\n",
      "         Current function value: 29.516760\n",
      "         Iterations: 3\n",
      "         Function evaluations: 5\n",
      "         Gradient evaluations: 5\n",
      "Optimization terminated successfully.\n",
      "         Current function value: 43.802466\n",
      "         Iterations: 3\n",
      "         Function evaluations: 5\n",
      "         Gradient evaluations: 5\n",
      "Warning: Desired error not necessarily achieved due to precision loss.\n",
      "         Current function value: 60.842378\n",
      "         Iterations: 3\n",
      "         Function evaluations: 50\n",
      "         Gradient evaluations: 39\n"
     ]
    },
    {
     "data": {
      "image/png": "[encoded data removed]",
      "text/plain": [
       "<matplotlib.figure.Figure at 0x7fe6e5911d68>"
      ]
     },
     "metadata": {},
     "output_type": "display_data"
    }
   ],
   "source": [
    "# Validation for selecting lambda\n",
    "lambda_vec, error_train, error_val = validationCurve(X_train,y_train,X_val,y_val)\n",
    "plt.plot(lambda_vec, error_train, lambda_vec, error_val);\n",
    "plt.title('Selecting \\lambda using a cross validation set')\n",
    "plt.legend(['Train', 'Cross Validation'])\n",
    "plt.xlabel('lambda')\n",
    "plt.ylabel('Error')\n",
    "plt.show()"
   ]
  }
 ],
 "metadata": {
  "kernelspec": {
   "display_name": "Python 3.6",
   "language": "python",
   "name": "python36"
  },
  "language_info": {
   "codemirror_mode": {
    "name": "ipython",
    "version": 3
   },
   "file_extension": ".py",
   "mimetype": "text/x-python",
   "name": "python",
   "nbconvert_exporter": "python",
   "pygments_lexer": "ipython3",
   "version": "3.6.3"
  }
 },
 "nbformat": 4,
 "nbformat_minor": 2
}
