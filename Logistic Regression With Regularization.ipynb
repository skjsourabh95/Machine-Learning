{
 "cells": [
  {
   "cell_type": "code",
   "execution_count": 1,
   "metadata": {
    "scrolled": true
   },
   "outputs": [
    {
     "name": "stderr",
     "output_type": "stream",
     "text": [
      "/home/nbuser/anaconda3_501/lib/python3.6/site-packages/matplotlib/font_manager.py:281: UserWarning: Matplotlib is building the font cache using fc-list. This may take a moment.\n",
      "  'Matplotlib is building the font cache using fc-list. '\n"
     ]
    }
   ],
   "source": [
    "import pandas as pd\n",
    "import numpy as np\n",
    "import matplotlib.pyplot as plt\n",
    "%matplotlib inline\n",
    "import seaborn as sns"
   ]
  },
  {
   "cell_type": "code",
   "execution_count": 2,
   "metadata": {},
   "outputs": [
    {
     "data": {
      "text/html": [
       "<div>\n",
       "<style>\n",
       "    .dataframe thead tr:only-child th {\n",
       "        text-align: right;\n",
       "    }\n",
       "\n",
       "    .dataframe thead th {\n",
       "        text-align: left;\n",
       "    }\n",
       "\n",
       "    .dataframe tbody tr th {\n",
       "        vertical-align: top;\n",
       "    }\n",
       "</style>\n",
       "<table border=\"1\" class=\"dataframe\">\n",
       "  <thead>\n",
       "    <tr style=\"text-align: right;\">\n",
       "      <th></th>\n",
       "      <th>Test 1</th>\n",
       "      <th>Test 2</th>\n",
       "      <th>Label</th>\n",
       "    </tr>\n",
       "  </thead>\n",
       "  <tbody>\n",
       "    <tr>\n",
       "      <th>0</th>\n",
       "      <td>0.051267</td>\n",
       "      <td>0.69956</td>\n",
       "      <td>1</td>\n",
       "    </tr>\n",
       "    <tr>\n",
       "      <th>1</th>\n",
       "      <td>-0.092742</td>\n",
       "      <td>0.68494</td>\n",
       "      <td>1</td>\n",
       "    </tr>\n",
       "    <tr>\n",
       "      <th>2</th>\n",
       "      <td>-0.213710</td>\n",
       "      <td>0.69225</td>\n",
       "      <td>1</td>\n",
       "    </tr>\n",
       "    <tr>\n",
       "      <th>3</th>\n",
       "      <td>-0.375000</td>\n",
       "      <td>0.50219</td>\n",
       "      <td>1</td>\n",
       "    </tr>\n",
       "    <tr>\n",
       "      <th>4</th>\n",
       "      <td>-0.513250</td>\n",
       "      <td>0.46564</td>\n",
       "      <td>1</td>\n",
       "    </tr>\n",
       "  </tbody>\n",
       "</table>\n",
       "</div>"
      ],
      "text/plain": [
       "     Test 1   Test 2  Label\n",
       "0  0.051267  0.69956      1\n",
       "1 -0.092742  0.68494      1\n",
       "2 -0.213710  0.69225      1\n",
       "3 -0.375000  0.50219      1\n",
       "4 -0.513250  0.46564      1"
      ]
     },
     "execution_count": 2,
     "metadata": {},
     "output_type": "execute_result"
    }
   ],
   "source": [
    "dataset=pd.read_csv('Data/LogisticReg2.txt',names=['Test 1', 'Test 2', 'Label'])\n",
    "data=dataset.copy()\n",
    "dataset.head()"
   ]
  },
  {
   "cell_type": "code",
   "execution_count": 3,
   "metadata": {},
   "outputs": [
    {
     "data": {
      "image/png": "[encoded data removed]",
      "text/plain": [
       "<matplotlib.figure.Figure at 0x7ff5228fba90>"
      ]
     },
     "metadata": {},
     "output_type": "display_data"
    }
   ],
   "source": [
    "def plotData():\n",
    "    pos=dataset[dataset['Label'].isin([1])]\n",
    "    neg=dataset[dataset['Label'].isin([0])]  \n",
    "    plt.scatter(pos['Test 1'], pos['Test 2'], s=50, c='b', marker='o', label='Accepted')  \n",
    "    plt.scatter(neg['Test 1'], neg['Test 2'], s=50, c='r', marker='x', label='Rejected')  \n",
    "    plt.legend()  \n",
    "    plt.xlabel('Test 1 Score')  \n",
    "    \n",
    "    plt.ylabel('Test 2 Score') \n",
    "plt.figure(figsize=(6,6))\n",
    "plotData()"
   ]
  },
  {
   "cell_type": "code",
   "execution_count": 4,
   "metadata": {
    "scrolled": true
   },
   "outputs": [
    {
     "name": "stderr",
     "output_type": "stream",
     "text": [
      "/home/nbuser/anaconda3_501/lib/python3.6/site-packages/ipykernel/__main__.py:8: FutureWarning: reshape is deprecated and will raise in a subsequent release. Please use .values.reshape(...) instead\n"
     ]
    },
    {
     "data": {
      "text/plain": [
       "(118, 28)"
      ]
     },
     "execution_count": 4,
     "metadata": {},
     "output_type": "execute_result"
    }
   ],
   "source": [
    "#Feature Mapping\n",
    "def feature(x1,x2,degree=6):\n",
    "    out = np.ones( (x1.shape[0], 1) )\n",
    "    for i in range(1,degree+1):\n",
    "        for j in range(0,i+1):\n",
    "            term1 = x1 ** (i-j)\n",
    "            term2 = x2 ** (j)\n",
    "            term  = (term1 * term2).reshape( term1.shape[0], 1 ) \n",
    "            out  = np.hstack((out, term ))\n",
    "    return out\n",
    "degree=6\n",
    "x1=dataset['Test 1']\n",
    "x2=dataset['Test 2']\n",
    "new_data=feature(x1,x2)\n",
    "new_data.shape"
   ]
  },
  {
   "cell_type": "code",
   "execution_count": 5,
   "metadata": {},
   "outputs": [],
   "source": [
    "def sigmoid(z):\n",
    "    g=(1)/(1+np.exp(-z))\n",
    "    return g"
   ]
  },
  {
   "cell_type": "code",
   "execution_count": 6,
   "metadata": {},
   "outputs": [],
   "source": [
    "#regularized Cost\n",
    "def cost(t,X,y,l):\n",
    "    m=len(y)\n",
    "    h=sigmoid(X.dot(t))\n",
    "    reg = (l/2) * (np.sum(np.square(t[1:])))#Skip theta0\n",
    "    J=-1*(1/m)*(((np.log(h)).T.dot(y)+(np.log(1-h)).T.dot(1-y))+reg)\n",
    "    return(J)\n",
    "    "
   ]
  },
  {
   "cell_type": "code",
   "execution_count": 7,
   "metadata": {},
   "outputs": [],
   "source": [
    "#regularized Gradient\n",
    "def gradient(t, X, y,l):\n",
    "    m = y.size\n",
    "    X=np.array(X)\n",
    "    h = sigmoid(X.dot(t.reshape(-1,1)))  \n",
    "    grad = (1/m)*X.T.dot(h-y) + (l/m)*np.r_[[[0]],t[1:].reshape(-1,1)]   \n",
    "    return(grad.flatten())"
   ]
  },
  {
   "cell_type": "code",
   "execution_count": 8,
   "metadata": {},
   "outputs": [
    {
     "name": "stdout",
     "output_type": "stream",
     "text": [
      "Initial Cost: [0.69314718]\n",
      "Gradient: [8.47457627e-03 1.87880932e-02 7.77711864e-05 5.03446395e-02\n",
      " 1.15013308e-02 3.76648474e-02 1.83559872e-02 7.32393391e-03\n",
      " 8.19244468e-03 2.34764889e-02 3.93486234e-02 2.23923907e-03\n",
      " 1.28600503e-02 3.09593720e-03 3.93028171e-02 1.99707467e-02\n",
      " 4.32983232e-03 3.38643902e-03 5.83822078e-03 4.47629067e-03\n",
      " 3.10079849e-02 3.10312442e-02 1.09740238e-03 6.31570797e-03\n",
      " 4.08503006e-04 7.26504316e-03 1.37646175e-03 3.87936363e-02] (28,)\n"
     ]
    }
   ],
   "source": [
    "t=np.zeros((new_data.shape[1]))  \n",
    "X = new_data\n",
    "y = dataset.iloc[:,-1] \n",
    "y=np.array(y.values).reshape((len(y),1))\n",
    "l=1\n",
    "initial_cost=cost(t,X,y,l)\n",
    "g=gradient(t,X,y,l)\n",
    "print(\"Initial Cost:\",initial_cost)\n",
    "print(\"Gradient:\",g.ravel(),g.shape)"
   ]
  },
  {
   "cell_type": "code",
   "execution_count": 9,
   "metadata": {
    "scrolled": true
   },
   "outputs": [
    {
     "data": {
      "text/plain": [
       "(array([ 1.27422018,  0.62478649,  1.18590377, -2.02173832, -0.91708236,\n",
       "        -1.41319136,  0.12444366, -0.36770513, -0.36458182, -0.18067776,\n",
       "        -1.46506512, -0.06288699, -0.61999796, -0.27174433, -1.20129295,\n",
       "        -0.23663767, -0.20901441, -0.05490416, -0.27804409, -0.29276908,\n",
       "        -0.4679079 , -1.04396481,  0.02082843, -0.29638539,  0.00961555,\n",
       "        -0.32917183, -0.13804206, -0.9355084 ]), 56, 4)"
      ]
     },
     "execution_count": 9,
     "metadata": {},
     "output_type": "execute_result"
    }
   ],
   "source": [
    "import scipy.optimize as opt  \n",
    "result=opt.fmin_tnc(func=cost, x0=t, fprime=gradient, args=(X, y, l)) \n",
    "result"
   ]
  },
  {
   "cell_type": "code",
   "execution_count": 10,
   "metadata": {},
   "outputs": [],
   "source": [
    "def predict(theta, X, threshold=0.5):\n",
    "    p = sigmoid(X.dot(theta.T)) >= threshold\n",
    "    return(p.astype('int'))"
   ]
  },
  {
   "cell_type": "code",
   "execution_count": 11,
   "metadata": {},
   "outputs": [
    {
     "name": "stdout",
     "output_type": "stream",
     "text": [
      "accuracy = 98%\n"
     ]
    }
   ],
   "source": [
    "theta_min = np.matrix(result[0])  \n",
    "predictions = predict(theta_min, X)  \n",
    "correct = [1 if ((a == 1 and b == 1) or (a == 0 and b == 0)) else 0 for (a, b) in zip(predictions, y)]  \n",
    "accuracy = (sum(map(int, correct)) % len(correct))  \n",
    "print ('accuracy = {0}%'.format(accuracy)  )"
   ]
  },
  {
   "cell_type": "code",
   "execution_count": 12,
   "metadata": {},
   "outputs": [
    {
     "data": {
      "image/png": "[encoded data removed]",
      "text/plain": [
       "<matplotlib.figure.Figure at 0x7ff5225dea20>"
      ]
     },
     "metadata": {},
     "output_type": "display_data"
    }
   ],
   "source": [
    "def plot_decision_boundary(theta, X, y):\n",
    "    # Simple seaborn scatterplot\n",
    "    sns.lmplot('Test 1','Test 2',hue='Label',data=data,fit_reg=False,size = 6,aspect= 1.5,palette='Dark2',legend=False)\n",
    "    \n",
    "    z = np.zeros([50, 50])\n",
    "    uu = np.linspace(-1.0, 1.5, 50)\n",
    "    vv = np.linspace(-1.0, 1.5, 50)\n",
    "    for i, u in enumerate(uu):\n",
    "        for j, v in enumerate(vv):\n",
    "            z[i, j] = np.dot(feature(np.array([[u]]), np.array([[v]])), theta)[0]\n",
    "    plt.contour(uu, vv, z.T, [0], colors='dodgerblue')\n",
    "    plt.axis([-.8, 1.2, -.8, 1.2])\n",
    "    plt.xticks(np.arange(-.8, 1.3, .2))\n",
    "    plt.yticks(np.arange(-.8, 1.3, .2))\n",
    "    plt.xlabel('Microchip Test 1')\n",
    "    plt.ylabel('Microchip Test 2')\n",
    "    plt.legend(('y=1', 'y=0'), loc='upper right', numpoints=1)\n",
    "    plt.title('Decision boundary for lambda = ' + str(l), fontsize=13)\n",
    "    # plt.savefig('temp.png', transparent=True,orientation='landscape', pad_inches=0.4)\n",
    "\n",
    "\n",
    "plot_decision_boundary(result[0], X, y)"
   ]
  },
  {
   "cell_type": "markdown",
   "metadata": {},
   "source": [
    "### Regularized Logistic Regression with scikit-learn"
   ]
  },
  {
   "cell_type": "code",
   "execution_count": 13,
   "metadata": {},
   "outputs": [],
   "source": [
    "import numpy as np\n",
    "import matplotlib.pyplot as plt\n",
    "import pandas as pd\n",
    "%matplotlib inline"
   ]
  },
  {
   "cell_type": "code",
   "execution_count": 14,
   "metadata": {},
   "outputs": [
    {
     "name": "stdout",
     "output_type": "stream",
     "text": [
      "<class 'pandas.core.frame.DataFrame'>\n",
      "RangeIndex: 118 entries, 0 to 117\n",
      "Data columns (total 3 columns):\n",
      "Test1    118 non-null float64\n",
      "Test2    118 non-null float64\n",
      "Label    118 non-null int64\n",
      "dtypes: float64(2), int64(1)\n",
      "memory usage: 2.8 KB\n"
     ]
    }
   ],
   "source": [
    "data=pd.read_csv(\"Data/LogisticReg2.txt\",names=['Test1','Test2','Label'])\n",
    "data.info()"
   ]
  },
  {
   "cell_type": "code",
   "execution_count": 15,
   "metadata": {},
   "outputs": [],
   "source": [
    "X=data[['Test1','Test2']]\n",
    "y=data['Label']"
   ]
  },
  {
   "cell_type": "code",
   "execution_count": 20,
   "metadata": {},
   "outputs": [
    {
     "name": "stderr",
     "output_type": "stream",
     "text": [
      "/home/nbuser/anaconda3_501/lib/python3.6/site-packages/ipykernel/__main__.py:8: FutureWarning: reshape is deprecated and will raise in a subsequent release. Please use .values.reshape(...) instead\n"
     ]
    },
    {
     "data": {
      "text/plain": [
       "(118, 28)"
      ]
     },
     "execution_count": 20,
     "metadata": {},
     "output_type": "execute_result"
    }
   ],
   "source": [
    "#feature engineering\n",
    "def feature(x1,x2,degree=6):\n",
    "    out = np.ones( (x1.shape[0], 1) )\n",
    "    for i in range(1,degree+1):\n",
    "        for j in range(0,i+1):\n",
    "            term1 = x1 ** (i-j)\n",
    "            term2 = x2 ** (j)\n",
    "            term  = (term1 * term2).reshape( term1.shape[0], 1 ) \n",
    "            out  = np.hstack((out, term ))\n",
    "    return out\n",
    "degree=6\n",
    "x1=data['Test1']\n",
    "x2=data['Test2']\n",
    "new_X=feature(x1,x2)\n",
    "new_X.shape"
   ]
  },
  {
   "cell_type": "code",
   "execution_count": 29,
   "metadata": {},
   "outputs": [
    {
     "name": "stdout",
     "output_type": "stream",
     "text": [
      "(82, 28)\n",
      "(82,)\n",
      "(36, 28)\n",
      "(36,)\n"
     ]
    }
   ],
   "source": [
    "from sklearn.model_selection import train_test_split\n",
    "X_train,X_test,y_train,y_test=train_test_split(new_X,y,test_size=0.3)\n",
    "print(X_train.shape)\n",
    "print(y_train.shape)\n",
    "print(X_test.shape)\n",
    "print(y_test.shape)"
   ]
  },
  {
   "cell_type": "code",
   "execution_count": 30,
   "metadata": {},
   "outputs": [
    {
     "data": {
      "text/plain": [
       "0.8048780487804879"
      ]
     },
     "execution_count": 30,
     "metadata": {},
     "output_type": "execute_result"
    }
   ],
   "source": [
    "from sklearn.linear_model import LogisticRegression\n",
    "model=LogisticRegression()\n",
    "model_fit=model.fit(X_train,y_train)\n",
    "model.score(X_train,y_train)"
   ]
  },
  {
   "cell_type": "code",
   "execution_count": 31,
   "metadata": {
    "scrolled": true
   },
   "outputs": [
    {
     "name": "stdout",
     "output_type": "stream",
     "text": [
      "0.8333333333333334\n"
     ]
    }
   ],
   "source": [
    "from sklearn import metrics\n",
    "predict=model.predict(X_test)\n",
    "print(metrics.accuracy_score(y_test,predict))"
   ]
  },
  {
   "cell_type": "code",
   "execution_count": 33,
   "metadata": {
    "scrolled": true
   },
   "outputs": [
    {
     "name": "stdout",
     "output_type": "stream",
     "text": [
      "[0.66666667 0.75       0.91666667 0.25       0.66666667 0.66666667\n",
      " 1.         0.66666667 0.63636364 0.81818182]\n",
      "0.7037878787878789\n"
     ]
    }
   ],
   "source": [
    "from sklearn.cross_validation import cross_val_score\n",
    "#10-fold cross validation\n",
    "score = cross_val_score(LogisticRegression(), new_X, y, scoring='accuracy', cv=10)\n",
    "print(score)\n",
    "print(score.mean())"
   ]
  },
  {
   "cell_type": "code",
   "execution_count": 35,
   "metadata": {
    "scrolled": true
   },
   "outputs": [
    {
     "name": "stdout",
     "output_type": "stream",
     "text": [
      "[[16  3]\n",
      " [ 3 14]]\n"
     ]
    }
   ],
   "source": [
    "print(metrics.confusion_matrix(y_test, predict))"
   ]
  },
  {
   "cell_type": "code",
   "execution_count": 36,
   "metadata": {},
   "outputs": [
    {
     "name": "stdout",
     "output_type": "stream",
     "text": [
      "             precision    recall  f1-score   support\n",
      "\n",
      "          0       0.84      0.84      0.84        19\n",
      "          1       0.82      0.82      0.82        17\n",
      "\n",
      "avg / total       0.83      0.83      0.83        36\n",
      "\n"
     ]
    }
   ],
   "source": [
    "print(metrics.classification_report(y_test, predict))"
   ]
  }
 ],
 "metadata": {
  "kernelspec": {
   "display_name": "Python 3.6",
   "language": "python",
   "name": "python36"
  },
  "language_info": {
   "codemirror_mode": {
    "name": "ipython",
    "version": 3
   },
   "file_extension": ".py",
   "mimetype": "text/x-python",
   "name": "python",
   "nbconvert_exporter": "python",
   "pygments_lexer": "ipython3",
   "version": "3.6.3"
  }
 },
 "nbformat": 4,
 "nbformat_minor": 2
}
