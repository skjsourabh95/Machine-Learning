{
 "cells": [
  {
   "cell_type": "markdown",
   "metadata": {},
   "source": [
    "# Multinomial Logistic Regression"
   ]
  },
  {
   "cell_type": "code",
   "execution_count": 65,
   "metadata": {},
   "outputs": [],
   "source": [
    "import pandas as pd\n",
    "import numpy as np\n",
    "import matplotlib.pyplot as plt\n",
    "%matplotlib inline\n",
    "from scipy.io import loadmat\n",
    "from scipy.optimize import minimize"
   ]
  },
  {
   "cell_type": "code",
   "execution_count": 66,
   "metadata": {},
   "outputs": [
    {
     "data": {
      "text/plain": [
       "dict_keys(['__header__', '__version__', '__globals__', 'X', 'y'])"
      ]
     },
     "execution_count": 66,
     "metadata": {},
     "output_type": "execute_result"
    }
   ],
   "source": [
    "dataset=loadmat(\"Data/multi_log_reg_data2.mat\")\n",
    "dataset.keys()"
   ]
  },
  {
   "cell_type": "code",
   "execution_count": 67,
   "metadata": {},
   "outputs": [
    {
     "name": "stdout",
     "output_type": "stream",
     "text": [
      "(5000, 401)\n",
      "(5000, 1)\n"
     ]
    }
   ],
   "source": [
    "X=np.array(np.c_[np.ones((dataset['X'].shape[0],1)),dataset['X']])\n",
    "y=np.array(dataset['y'])\n",
    "print(X.shape)\n",
    "print(y.shape)"
   ]
  },
  {
   "cell_type": "code",
   "execution_count": 68,
   "metadata": {},
   "outputs": [
    {
     "data": {
      "image/png": "[encoded data removed]",
      "text/plain": [
       "<matplotlib.figure.Figure at 0x7ff79489d3c8>"
      ]
     },
     "metadata": {},
     "output_type": "display_data"
    }
   ],
   "source": [
    "sample = np.random.choice(X.shape[0], 20)\n",
    "plt.imshow(X[sample,1:].reshape(-1,20).T)\n",
    "plt.axis('off');"
   ]
  },
  {
   "cell_type": "code",
   "execution_count": 69,
   "metadata": {},
   "outputs": [],
   "source": [
    "def sigmoid(z):\n",
    "    g=(1/(1+np.exp(-z)))\n",
    "    return g"
   ]
  },
  {
   "cell_type": "code",
   "execution_count": 70,
   "metadata": {},
   "outputs": [],
   "source": [
    "def cost(theta,X,y,l):\n",
    "    m=len(y)\n",
    "    h=sigmoid(X.dot(theta))\n",
    "    reg=(l/(2*m))*np.sum(np.square(theta[1:]))\n",
    "    J=-1*(1/m)*((np.log(h).T.dot(y)+np.log(1-h).T.dot(1-y))+reg)\n",
    "    return(J)"
   ]
  },
  {
   "cell_type": "code",
   "execution_count": 71,
   "metadata": {},
   "outputs": [],
   "source": [
    "def gradient(theta,X,y,l):\n",
    "    m=len(y)\n",
    "    h=sigmoid(X.dot(theta.reshape(-1,1)))\n",
    "    reg=(l/m)*np.r_[[[0]],theta[1:].reshape(-1,1)]\n",
    "    grad=(1/m)*(X.T.dot(h-y) + reg)\n",
    "    return grad.flatten()"
   ]
  },
  {
   "cell_type": "code",
   "execution_count": 72,
   "metadata": {},
   "outputs": [],
   "source": [
    "def one_all(features,classes,K,l):\n",
    "    i_theta=np.zeros((X.shape[1],1))\n",
    "    a_theta=np.zeros((K,X.shape[1]))\n",
    "    for i in range(1,K+1):\n",
    "        result=minimize(cost, i_theta, args=( features, (classes == i)*1,l), method=None,\n",
    "                       jac=gradient, options={'maxiter':50})\n",
    "        a_theta[i-1]=result.x\n",
    "    return(a_theta)\n"
   ]
  },
  {
   "cell_type": "code",
   "execution_count": 73,
   "metadata": {},
   "outputs": [],
   "source": [
    "f_theta=one_all(X,y,10,0.1)"
   ]
  },
  {
   "cell_type": "code",
   "execution_count": 74,
   "metadata": {},
   "outputs": [],
   "source": [
    "def predict(a_theta,features):\n",
    "    probability=sigmoid(features.dot(a_theta.T))\n",
    "    return(np.argmax(probability,axis=1)+1)"
   ]
  },
  {
   "cell_type": "code",
   "execution_count": 75,
   "metadata": {},
   "outputs": [
    {
     "name": "stdout",
     "output_type": "stream",
     "text": [
      "Accuracy: 93.32000000000001 %\n"
     ]
    }
   ],
   "source": [
    "predictions=predict(f_theta,X)\n",
    "print('Accuracy: {} %'.format(np.mean(predictions == y.ravel())*100))"
   ]
  },
  {
   "cell_type": "markdown",
   "metadata": {},
   "source": [
    "### Another Example "
   ]
  },
  {
   "cell_type": "code",
   "execution_count": 2,
   "metadata": {
    "scrolled": true
   },
   "outputs": [],
   "source": [
    "import pandas as pd\n",
    "import numpy as np\n",
    "import matplotlib.pyplot as plt\n",
    "%matplotlib inline\n",
    "from sklearn.model_selection import train_test_split\n",
    "from sklearn.preprocessing import label_binarize\n",
    "from scipy.optimize import minimize \n",
    "from sklearn.metrics import accuracy_score, precision_score, recall_score"
   ]
  },
  {
   "cell_type": "code",
   "execution_count": 58,
   "metadata": {},
   "outputs": [
    {
     "name": "stdout",
     "output_type": "stream",
     "text": [
      "<class 'pandas.core.frame.DataFrame'>\n",
      "RangeIndex: 178 entries, 0 to 177\n",
      "Data columns (total 14 columns):\n",
      "class                   178 non-null int64\n",
      "alcohol                 178 non-null float64\n",
      "malic_acid              178 non-null float64\n",
      "ash                     178 non-null float64\n",
      "alcalinity              178 non-null float64\n",
      "magnesium               178 non-null int64\n",
      "total_phenols           178 non-null float64\n",
      "flavanoids              178 non-null float64\n",
      "nonflavanoid_phenols    178 non-null float64\n",
      "proanthocyanins         178 non-null float64\n",
      "color                   178 non-null float64\n",
      "hue                     178 non-null float64\n",
      "od                      178 non-null float64\n",
      "proline                 178 non-null int64\n",
      "dtypes: float64(11), int64(3)\n",
      "memory usage: 19.5 KB\n"
     ]
    },
    {
     "data": {
      "text/plain": [
       "(178, 14)"
      ]
     },
     "execution_count": 58,
     "metadata": {},
     "output_type": "execute_result"
    }
   ],
   "source": [
    "data=pd.read_csv(\"Data/Multi_Log_Reg_data3.txt\")\n",
    "data.head()\n",
    "data.info()\n",
    "data.shape"
   ]
  },
  {
   "cell_type": "code",
   "execution_count": 60,
   "metadata": {},
   "outputs": [
    {
     "name": "stdout",
     "output_type": "stream",
     "text": [
      "(133, 2)\n",
      "(133, 3)\n"
     ]
    }
   ],
   "source": [
    "X=data.as_matrix(columns=['alcohol','flavanoids'])\n",
    "y=data.as_matrix(columns=['class'])\n",
    "X_train, X_test, y_train, y_test = train_test_split(X, y, test_size=0.25)\n",
    "y_train=label_binarize(y_train,[1,2,3])\n",
    "print(X_train.shape)\n",
    "print(y_train.shape)"
   ]
  },
  {
   "cell_type": "markdown",
   "metadata": {},
   "source": [
    "The scikit-learn label_binarize function, which takes an $m$-length list with $n$ possible values and converts it to an $m \\times n$ matrix, where each column represents one label with a value of 1, and all others with a value of 0."
   ]
  },
  {
   "cell_type": "code",
   "execution_count": 61,
   "metadata": {
    "scrolled": true
   },
   "outputs": [
    {
     "data": {
      "image/png": "[encoded data removed]",
      "text/plain": [
       "<matplotlib.figure.Figure at 0x7fb36ba9b320>"
      ]
     },
     "metadata": {},
     "output_type": "display_data"
    }
   ],
   "source": [
    "MARKERS = ['+', 'x', '.']\n",
    "COLORS = ['red', 'green', 'blue']\n",
    "\n",
    "def plot_points(xy, labels):\n",
    "    \n",
    "    for i, label in enumerate(set(labels)):\n",
    "        points = np.array([xy[j,:] for j in range(len(xy)) if labels[j] == label])\n",
    "        marker = MARKERS[i % len(MARKERS)]\n",
    "        color = COLORS[i % len(COLORS)]\n",
    "        plt.scatter(points[:,0], points[:,1], marker=marker, color=color)\n",
    "        \n",
    "def plot_boundary(X, pred):\n",
    "    x_min, x_max = X[:,0].min() - .1, X[:,0].max() + .1\n",
    "    y_min, y_max = X[:,1].min() - .1, X[:,1].max() + .1\n",
    "    \n",
    "    xs, ys = np.meshgrid(\n",
    "        np.linspace(x_min, x_max, 200),\n",
    "        np.linspace(y_min, y_max, 200)\n",
    "    )\n",
    "\n",
    "    xys = np.column_stack([xs.ravel(), ys.ravel()])\n",
    "    zs = pred(xys).reshape(xs.shape)\n",
    "\n",
    "    plt.contour(xs, ys, zs, colors='black')\n",
    "\n",
    "plot_points(X_train, y_train.argmax(axis=1))"
   ]
  },
  {
   "cell_type": "code",
   "execution_count": 62,
   "metadata": {},
   "outputs": [],
   "source": [
    "def sigmoid(z):\n",
    "    g=(1/(1+np.exp(-z)))\n",
    "    return g\n",
    "\n",
    "def cost(theta,X,y,l):\n",
    "    m=len(y)\n",
    "    h=sigmoid(X.dot(theta))\n",
    "    reg=(l/(2*m))*np.sum(np.square(theta[1:]))\n",
    "    J=-1*(1/m)*((np.log(h).T.dot(y)+np.log(1-h).T.dot(1-y))+reg)\n",
    "    return(J)\n",
    "\n",
    "def gradient(theta,X,y,l):\n",
    "    theta = theta[:,None]\n",
    "    y = y[:,None]\n",
    "    m=len(y)\n",
    "    h = sigmoid(X.dot(theta))\n",
    "    reg=(l/m)*np.r_[[[0]],theta[1:].reshape(-1,1)]\n",
    "    grad=(1/m)*(X.T.dot(h-y) + reg)\n",
    "    return grad.flatten()\n",
    "\n",
    "def train(X, y,l):\n",
    "    X = np.insert(X, 0, np.ones(len(X)), axis=1)\n",
    "    theta = np.zeros(X.shape[1])\n",
    "    result=minimize(cost, theta, args=(X,y,l), method=None,\n",
    "                       jac=gradient, options={'maxiter':50})\n",
    "    return result.x\n",
    "\n",
    "def predict(X, thetas):\n",
    "    X = np.insert(X, 0, np.ones(len(X)), axis=1)\n",
    "    predictions = [sigmoid(X * np.asmatrix(t).T) for t in thetas]\n",
    "    return np.column_stack(predictions).argmax(axis=1)"
   ]
  },
  {
   "cell_type": "code",
   "execution_count": 63,
   "metadata": {
    "scrolled": true
   },
   "outputs": [],
   "source": [
    "thetas = [train(X_train, y_train[:,i],1.0) for i in range(0,3)]\n",
    "pred = predict(X_test, thetas) + 1\n"
   ]
  },
  {
   "cell_type": "code",
   "execution_count": 64,
   "metadata": {
    "scrolled": true
   },
   "outputs": [
    {
     "name": "stdout",
     "output_type": "stream",
     "text": [
      "accuracy: 0.9333333333333333\n",
      "precision: 0.9282894736842104\n",
      "recall: 0.9458333333333333\n"
     ]
    }
   ],
   "source": [
    "print('accuracy:', accuracy_score(y_test, pred))\n",
    "print('precision:', precision_score(y_test, pred, average='macro'))\n",
    "print('recall:', recall_score(y_test, pred, average='macro'))"
   ]
  },
  {
   "cell_type": "code",
   "execution_count": 65,
   "metadata": {},
   "outputs": [
    {
     "data": {
      "image/png": "[encoded data removed]",
      "text/plain": [
       "<matplotlib.figure.Figure at 0x7fb375b8d978>"
      ]
     },
     "metadata": {},
     "output_type": "display_data"
    }
   ],
   "source": [
    "plot_points(X_train, y_train.argmax(axis=1))\n",
    "plot_boundary(X_train, lambda x: predict(x, thetas))"
   ]
  },
  {
   "cell_type": "markdown",
   "metadata": {},
   "source": [
    "### USING SCIKIT-LEARN"
   ]
  },
  {
   "cell_type": "code",
   "execution_count": 83,
   "metadata": {},
   "outputs": [],
   "source": [
    "import pandas as pd\n",
    "import numpy as np\n",
    "import matplotlib.pyplot as plt\n",
    "%matplotlib inline\n",
    "from sklearn.model_selection import train_test_split\n",
    "from sklearn.preprocessing import label_binarize\n",
    "from sklearn.linear_model import LogisticRegression\n",
    "from sklearn.metrics import classification_report,confusion_matrix,accuracy_score, precision_score, recall_score,mean_squared_error"
   ]
  },
  {
   "cell_type": "code",
   "execution_count": 27,
   "metadata": {},
   "outputs": [],
   "source": [
    "data=pd.read_csv(\"Data/Multi_Log_Reg_data3.txt\")"
   ]
  },
  {
   "cell_type": "code",
   "execution_count": 68,
   "metadata": {},
   "outputs": [
    {
     "name": "stdout",
     "output_type": "stream",
     "text": [
      "(133, 13)\n",
      "(45, 1)\n"
     ]
    }
   ],
   "source": [
    "X = data.drop('class', 1).as_matrix()\n",
    "y=data.as_matrix(columns=['class'])\n",
    "X_train, X_test, y_train, y_test = train_test_split(X, y, test_size=0.25)\n",
    "print(X_train.shape)\n",
    "print(y_test.shape)"
   ]
  },
  {
   "cell_type": "code",
   "execution_count": 69,
   "metadata": {},
   "outputs": [],
   "source": [
    "logreg = LogisticRegression(multi_class = 'multinomial', solver = 'newton-cg')"
   ]
  },
  {
   "cell_type": "code",
   "execution_count": 70,
   "metadata": {},
   "outputs": [],
   "source": [
    "thetas =logreg.fit(X_train, y_train.ravel())\n",
    "pred = logreg.predict(X_test)"
   ]
  },
  {
   "cell_type": "code",
   "execution_count": 71,
   "metadata": {},
   "outputs": [
    {
     "name": "stdout",
     "output_type": "stream",
     "text": [
      "accuracy: 0.9555555555555556\n",
      "precision: 0.9618736383442266\n",
      "recall: 0.9511784511784511\n"
     ]
    }
   ],
   "source": [
    "print('accuracy:', accuracy_score(y_test, pred))\n",
    "print('precision:', precision_score(y_test, pred, average='macro'))\n",
    "print('recall:', recall_score(y_test, pred, average='macro'))"
   ]
  },
  {
   "cell_type": "code",
   "execution_count": 77,
   "metadata": {
    "scrolled": true
   },
   "outputs": [
    {
     "name": "stdout",
     "output_type": "stream",
     "text": [
      "0.21081851067789195\n"
     ]
    }
   ],
   "source": [
    "print(np.sqrt(mean_squared_error(y_test, pred)))"
   ]
  },
  {
   "cell_type": "code",
   "execution_count": 88,
   "metadata": {},
   "outputs": [
    {
     "name": "stdout",
     "output_type": "stream",
     "text": [
      "[[16  0  0]\n",
      " [ 1 17  0]\n",
      " [ 0  1 10]]\n",
      "             precision    recall  f1-score   support\n",
      "\n",
      "          1       0.94      1.00      0.97        16\n",
      "          2       0.94      0.94      0.94        18\n",
      "          3       1.00      0.91      0.95        11\n",
      "\n",
      "avg / total       0.96      0.96      0.96        45\n",
      "\n"
     ]
    }
   ],
   "source": [
    "print(confusion_matrix(y_test, pred))\n",
    "print(classification_report(y_test, pred))"
   ]
  },
  {
   "cell_type": "code",
   "execution_count": null,
   "metadata": {},
   "outputs": [],
   "source": []
  }
 ],
 "metadata": {
  "kernelspec": {
   "display_name": "Python 3.6",
   "language": "python",
   "name": "python36"
  },
  "language_info": {
   "codemirror_mode": {
    "name": "ipython",
    "version": 3
   },
   "file_extension": ".py",
   "mimetype": "text/x-python",
   "name": "python",
   "nbconvert_exporter": "python",
   "pygments_lexer": "ipython3",
   "version": "3.6.3"
  }
 },
 "nbformat": 4,
 "nbformat_minor": 2
}
